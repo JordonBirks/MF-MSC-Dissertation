{
 "cells": [
  {
   "cell_type": "code",
   "execution_count": null,
   "id": "c1dfe02f-6ee8-43dd-b85b-b5e7de0b46d4",
   "metadata": {},
   "outputs": [],
   "source": [
    "import pandas as pd\n",
    "import numpy as np"
   ]
  },
  {
   "cell_type": "code",
   "execution_count": null,
   "id": "ae5cffcb-58f5-4be8-a4fa-79d0d3dc43d8",
   "metadata": {},
   "outputs": [],
   "source": [
    "# Read in data\n",
    "uni = pd.read_csv('EM_universe.csv', index_col='date')"
   ]
  },
  {
   "cell_type": "code",
   "execution_count": null,
   "id": "fead9292-2756-43df-bfa0-1fcf92e15833",
   "metadata": {},
   "outputs": [],
   "source": [
    "# Set index to datetime and sort\n",
    "uni.index = pd.to_datetime(uni.index)\n",
    "uni = uni.sort_index()"
   ]
  },
  {
   "cell_type": "code",
   "execution_count": null,
   "id": "6d7d07a8-7cb3-48d5-8126-8a093abaebf4",
   "metadata": {},
   "outputs": [],
   "source": [
    "uni.head()"
   ]
  },
  {
   "cell_type": "code",
   "execution_count": null,
   "id": "922cca01-1fe9-40d5-9b71-0fa13468ee02",
   "metadata": {},
   "outputs": [],
   "source": [
    "# Drop unwanted columns\n",
    "uni = uni[['name','id','Market Capitalisation','Mkt-RF', 'SMB', 'HML', 'RMW', 'CMA', 'Market Risk Factor Loading', 'SMB Factor Loading', \n",
    "           'HML Factor Loading', 'RMW Factor Loading', 'CMA Factor Loading', 'intercept','excess_ret_adjusted','return_adjusted']]"
   ]
  },
  {
   "cell_type": "code",
   "execution_count": null,
   "id": "8559c726-2980-4cb9-bdd8-dbf90911513f",
   "metadata": {},
   "outputs": [],
   "source": [
    "# calculate the expected excess return via the Fama-French five factor model\n",
    "uni['expected returns'] = (uni['Mkt-RF']*uni['Market Risk Factor Loading'])+(uni['SMB']*uni['SMB Factor Loading'])+(uni['HML']*uni['HML Factor Loading'])+(uni['RMW']*uni['RMW Factor Loading'])+(uni['CMA']*uni['CMA Factor Loading'])+uni['intercept']"
   ]
  },
  {
   "cell_type": "code",
   "execution_count": null,
   "id": "40dfcb3d-cd07-423d-a53f-d0d85851e6c0",
   "metadata": {},
   "outputs": [],
   "source": [
    "# Function to run the simulation. Use the Fama-French model to pick stocks at each period and save the results\n",
    "def simulation(data, periods):\n",
    "    dates = data.index.unique()\n",
    "    column_names = ['Returns', 'Length']\n",
    "    # Create an empty DataFrame with column names\n",
    "    results_df = pd.DataFrame(columns=column_names)\n",
    "\n",
    "    # Itterate through dates\n",
    "    for i in range(5, len(dates)-periods):\n",
    "        \n",
    "        # Get rolling window data\n",
    "        window_data = data[data.index.isin(dates[i:i+periods+1])]\n",
    "        # Get window data where more than periods/2 periods are available for each stock\n",
    "        window_data = window_data[window_data.groupby('name').name.transform('count')>((periods/2)+1)].copy()\n",
    "        # Get current period data\n",
    "        current_data = window_data[window_data.index == dates[i+periods]].set_index('id')\n",
    "        \n",
    "        # Get equities where Fama-French predicts top quartile returns\n",
    "        percentile = np.percentile(current_data['expected returns'].dropna(), 75)\n",
    "        current_data = current_data[current_data['expected returns'] >= percentile]\n",
    "        \n",
    "        # Store resulsts\n",
    "        results_df.loc[dates[i+periods],:] = [(current_data['return_adjusted'].mean()+1), len(current_data)]\n",
    "        \n",
    "    return results_df"
   ]
  },
  {
   "cell_type": "code",
   "execution_count": null,
   "id": "229533f0-10fc-4142-b634-94e8144c0317",
   "metadata": {},
   "outputs": [],
   "source": [
    "# Run the simulation\n",
    "ret = simulation(uni, 12)"
   ]
  },
  {
   "cell_type": "code",
   "execution_count": null,
   "id": "58bb9c28-852c-4d8d-aeab-5141106c0da8",
   "metadata": {},
   "outputs": [],
   "source": [
    "# Drop the results\n",
    "ret.index.name = 'date'\n",
    "ret.to_csv('ret_FF.csv',index=True)"
   ]
  }
 ],
 "metadata": {
  "kernelspec": {
   "display_name": "Python 3 (ipykernel)",
   "language": "python",
   "name": "python3"
  },
  "language_info": {
   "codemirror_mode": {
    "name": "ipython",
    "version": 3
   },
   "file_extension": ".py",
   "mimetype": "text/x-python",
   "name": "python",
   "nbconvert_exporter": "python",
   "pygments_lexer": "ipython3",
   "version": "3.8.8"
  }
 },
 "nbformat": 4,
 "nbformat_minor": 5
}
