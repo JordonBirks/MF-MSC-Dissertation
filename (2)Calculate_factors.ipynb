{
 "cells": [
  {
   "cell_type": "code",
   "execution_count": null,
   "id": "09b2d164-48aa-4828-8c83-ad1ddb798149",
   "metadata": {},
   "outputs": [],
   "source": [
    "import pandas as pd\n",
    "import numpy as np"
   ]
  },
  {
   "cell_type": "code",
   "execution_count": null,
   "id": "6ac68b18-2aba-49de-8d49-ad641ac3dc4f",
   "metadata": {},
   "outputs": [],
   "source": [
    "# Read in dataset from (1)\n",
    "uni = pd.read_csv('EM_full.csv')"
   ]
  },
  {
   "cell_type": "code",
   "execution_count": null,
   "id": "6a1fa235-432a-4535-8059-ac19f85c07b7",
   "metadata": {},
   "outputs": [],
   "source": [
    "# Change row names\n",
    "uni.rename(columns = {'conm':'name','sedol':'id','buy_date':'date', 'curcdd':'currency','prccd':'price','cshoc':'shares','atq':'assets','ltq':'liabilities'\n",
    "                    ,'niq':'net income','oiadpq':'ebit','revtq':'revenue'}, inplace = True)"
   ]
  },
  {
   "cell_type": "code",
   "execution_count": null,
   "id": "8fcae4a5-b3a1-4f89-8fff-18f90e318003",
   "metadata": {},
   "outputs": [],
   "source": [
    "# Set date to datetime type\n",
    "uni['date'] = pd.to_datetime(uni['date'])"
   ]
  },
  {
   "cell_type": "code",
   "execution_count": null,
   "id": "401d75a0-71bf-445b-9c5b-7d96157facb3",
   "metadata": {},
   "outputs": [],
   "source": [
    "# Drop unwanted columns from dataset\n",
    "uni = uni[['name',\n",
    " 'id',\n",
    " 'date',\n",
    " 'currency',\n",
    " 'price',\n",
    " 'shares',\n",
    " 'assets',\n",
    " 'liabilities',\n",
    " 'net income',\n",
    " 'ebit',\n",
    " 'revenue']]"
   ]
  },
  {
   "cell_type": "code",
   "execution_count": null,
   "id": "238b020c-8f50-4dc4-ae78-377b187f8bca",
   "metadata": {},
   "outputs": [],
   "source": [
    "# Drop rows where certain columns are zero\n",
    "uni = uni[uni['revenue']!=0]\n",
    "uni = uni[uni['assets']!=0]\n",
    "uni = uni[uni['liabilities']!=0]\n",
    "uni = uni[uni['price']!=0]\n",
    "uni = uni[uni['shares']!=0]"
   ]
  },
  {
   "cell_type": "code",
   "execution_count": null,
   "id": "b02a60ee-5d35-4e70-9514-a2ac17b12ad4",
   "metadata": {},
   "outputs": [],
   "source": [
    "# Calculate sharehlders equity\n",
    "uni['equity'] = uni['assets'] - uni['liabilities']"
   ]
  },
  {
   "cell_type": "code",
   "execution_count": null,
   "id": "8fee4c68-2fb9-4896-ac69-04eeb9a894ed",
   "metadata": {},
   "outputs": [],
   "source": [
    "# Sort data by date\n",
    "uni = uni.sort_values(['date'], ascending=(True)).reset_index(drop=True)\n",
    "# Calculate returns, investment and SGI\n",
    "uni['return'] = uni.groupby('name')['price'].pct_change()\n",
    "uni['investment'] = uni.groupby('name')['assets'].pct_change()\n",
    "uni['sgi'] = uni.groupby('name')['revenue'].pct_change() + 1"
   ]
  },
  {
   "cell_type": "code",
   "execution_count": null,
   "id": "b50967d4-5380-4eb4-b8f1-e5206f8e6a35",
   "metadata": {},
   "outputs": [],
   "source": [
    "# Calculate market cap\n",
    "uni['market cap'] = uni['price']*uni['shares']"
   ]
  },
  {
   "cell_type": "markdown",
   "id": "47f1f9b0-1d1b-4ace-a13e-6a8c816ce750",
   "metadata": {},
   "source": [
    "# Now capping returns"
   ]
  },
  {
   "cell_type": "code",
   "execution_count": null,
   "id": "d480aef2-1a07-414c-9e00-1c6cba0a498f",
   "metadata": {},
   "outputs": [],
   "source": [
    "# Get unique list of dates\n",
    "dates1 = uni['date'].unique().tolist()"
   ]
  },
  {
   "cell_type": "code",
   "execution_count": null,
   "id": "6a2248bd-87e2-4cb1-accd-7011fd0dce97",
   "metadata": {
    "tags": []
   },
   "outputs": [],
   "source": [
    "# This section finds the 5th and 95th percentile of the returns at each quarter\n",
    "max_key = {}\n",
    "min_key = {}\n",
    "\n",
    "for d in dates1:\n",
    "    temp = uni[uni['date']==d]\n",
    "    if len(temp['return'].dropna())>0:\n",
    "        mx = np.percentile(temp['return'].dropna(),95)\n",
    "        mn = np.percentile(temp['return'].dropna(),5)\n",
    "    else:\n",
    "        mx = mn = np.nan\n",
    "    max_key[d] = mx\n",
    "    min_key[d] = mn"
   ]
  },
  {
   "cell_type": "code",
   "execution_count": null,
   "id": "67424105-7608-4933-9fbf-33755d360e30",
   "metadata": {
    "tags": []
   },
   "outputs": [],
   "source": [
    "# This section constrains returns between 5% and 95%\n",
    "for i in range(len(uni)):\n",
    "    \n",
    "    date = uni.iloc[i,2]\n",
    "\n",
    "    mx = max_key[date]\n",
    "    mn = min_key[date]\n",
    "    if uni.iloc[i,-4] > mx:\n",
    "        uni.iloc[i,-4] = mx\n",
    "    if uni.iloc[i,-4] < mn:\n",
    "        uni.iloc[i,-4] = mn"
   ]
  },
  {
   "cell_type": "markdown",
   "id": "ffd6886f-8819-4c71-8ad4-f34648269430",
   "metadata": {},
   "source": [
    "# Back to vriables"
   ]
  },
  {
   "cell_type": "code",
   "execution_count": null,
   "id": "ceea4204-4afa-4edc-88a9-e4b63f108e34",
   "metadata": {},
   "outputs": [],
   "source": [
    "# Drop rows with the same name on the same date keeping the first \n",
    "uni = uni.drop_duplicates(['name','date'],keep= 'first')"
   ]
  },
  {
   "cell_type": "code",
   "execution_count": null,
   "id": "d5c0a848-2da7-4a55-9628-21354846bb31",
   "metadata": {},
   "outputs": [],
   "source": [
    "# Calculate book to market value\n",
    "uni['b/m'] = uni['equity']/uni['market cap']"
   ]
  },
  {
   "cell_type": "code",
   "execution_count": null,
   "id": "61c10733-d229-4191-aada-13677b5fd8c0",
   "metadata": {},
   "outputs": [],
   "source": [
    "# Drop rows where certain columns are zero\n",
    "uni = uni[uni['equity']!=0]\n",
    "uni = uni[uni['assets']!=0]\n",
    "uni = uni[uni['market cap']!=0]"
   ]
  },
  {
   "cell_type": "code",
   "execution_count": null,
   "id": "338f927a-c5ef-4e8e-b8f7-337344326a4e",
   "metadata": {},
   "outputs": [],
   "source": [
    "# Calculate roa, roe and debt-to-equity \n",
    "uni['roa'] = uni['net income']/uni['assets']\n",
    "uni['roe'] = uni['net income']/uni['equity']\n",
    "uni['d/e'] = uni['liabilities']/uni['equity']"
   ]
  },
  {
   "cell_type": "code",
   "execution_count": null,
   "id": "9a6cb5c5-fbfb-4d61-b21d-43fbb2db609d",
   "metadata": {},
   "outputs": [],
   "source": [
    "# Get mean return of market at each period. I.E. the market return\n",
    "market_ret = uni.groupby('date')['return'].mean()"
   ]
  },
  {
   "cell_type": "code",
   "execution_count": null,
   "id": "b96bf2d1-a026-4bc8-85fb-1c58dcb6872d",
   "metadata": {},
   "outputs": [],
   "source": [
    "# Set index as date\n",
    "uni.set_index('date', inplace=True, drop=False)"
   ]
  },
  {
   "cell_type": "code",
   "execution_count": null,
   "id": "b8957580-2b1b-4ed6-bd68-02f08c51329f",
   "metadata": {},
   "outputs": [],
   "source": [
    "# Join main data with the market mean return at each period\n",
    "uni = uni.join(market_ret, how='left' , lsuffix='', rsuffix='_market')"
   ]
  },
  {
   "cell_type": "code",
   "execution_count": null,
   "id": "61a8cb6e-0ca5-4518-8a1f-e7becf24342b",
   "metadata": {},
   "outputs": [],
   "source": [
    "# Calculate alpha\n",
    "uni['alpha'] = uni['return'] - uni['return_market']"
   ]
  },
  {
   "cell_type": "code",
   "execution_count": null,
   "id": "8cd83936-c503-43d2-96a3-5bb476ba4038",
   "metadata": {},
   "outputs": [],
   "source": [
    "# Set index as id and sort the values by date then name\n",
    "uni.set_index('id', inplace=True, drop=False)\n",
    "uni = uni.sort_values(['date','name'], ascending=(True,True)).reset_index(drop=True)"
   ]
  },
  {
   "cell_type": "code",
   "execution_count": null,
   "id": "17438131-3dbc-4fec-a085-309ca7b49296",
   "metadata": {},
   "outputs": [],
   "source": [
    "# Get rolling mean return and volatility of returns\n",
    "grouped = uni.groupby('name')\n",
    "uni['mean_return'] = grouped['return'].rolling(window=12, min_periods=4).mean().reset_index(0, drop=True)\n",
    "uni['vol'] = grouped['return'].rolling(window=12, min_periods=4).std().reset_index(0, drop=True)"
   ]
  },
  {
   "cell_type": "code",
   "execution_count": null,
   "id": "4396e378-423d-4b58-a84a-b8504a991dea",
   "metadata": {},
   "outputs": [],
   "source": [
    "# sort values by name then date\n",
    "uni = uni.sort_values(['name','date'], ascending=(True,True))"
   ]
  },
  {
   "cell_type": "code",
   "execution_count": null,
   "id": "a7a75c77-c4e4-49d0-b07e-5ecec8f23dce",
   "metadata": {
    "tags": []
   },
   "outputs": [],
   "source": [
    "# Drop unwanted columns then reset index\n",
    "uni = uni[['name', 'id', 'date', 'alpha', 'market cap', 'b/m', 'ebit','investment', 'vol','mean_return','roa','roe','sgi','d/e','return']].reset_index(drop=True)"
   ]
  },
  {
   "cell_type": "markdown",
   "id": "e6986e96-2135-4f6f-b752-17d2589c0f40",
   "metadata": {},
   "source": [
    "# Fama French Factor Loadings"
   ]
  },
  {
   "cell_type": "code",
   "execution_count": null,
   "id": "9619a73e-d7b7-490f-ac87-0aceafd31622",
   "metadata": {},
   "outputs": [],
   "source": [
    "# Read emerging markets factor data\n",
    "ff = pd.read_csv('EM_factors.csv', index_col='Date')"
   ]
  },
  {
   "cell_type": "code",
   "execution_count": null,
   "id": "9812862e-87b8-4128-9ca6-ab75f516f12c",
   "metadata": {},
   "outputs": [],
   "source": [
    "# Get the risk free rate in the right format\n",
    "ff['RF']=ff['RF']/100"
   ]
  },
  {
   "cell_type": "code",
   "execution_count": null,
   "id": "eae5bd63-890a-4a18-8ce1-97bb2b56fbf7",
   "metadata": {},
   "outputs": [],
   "source": [
    "# Work out quarterly risk-free-rate from monthly risk-free-rate\n",
    "ff['RF']=ff['RF']+1\n",
    "\n",
    "for i in range(5, len(ff), 3):\n",
    "    ff.iloc[i,-1] = ff.iloc[i-2:i+1,-1].prod()-1"
   ]
  },
  {
   "cell_type": "code",
   "execution_count": null,
   "id": "65f89d8a-b334-4b3d-9d64-74effd8cb755",
   "metadata": {},
   "outputs": [],
   "source": [
    "# Get date to join factors data to main data\n",
    "uni['ff_date'] = 0\n",
    "for i in range(len(uni)):\n",
    "    uni.iloc[i,-1] = uni.iloc[i,2].strftime(\"%Y%m\")"
   ]
  },
  {
   "cell_type": "code",
   "execution_count": null,
   "id": "fc632a4c-7359-4de0-b3b6-57a217f348f0",
   "metadata": {},
   "outputs": [],
   "source": [
    "# Set index as string for factor data\n",
    "ff.index = ff.index.astype(str)"
   ]
  },
  {
   "cell_type": "code",
   "execution_count": null,
   "id": "d1f4f833-3dc9-47ef-bb2e-7988e3dafebe",
   "metadata": {},
   "outputs": [],
   "source": [
    "# Set index for main data as date\n",
    "uni.index = uni['ff_date']"
   ]
  },
  {
   "cell_type": "code",
   "execution_count": null,
   "id": "beec0940-7c22-404e-bd6c-3f19aaeab78f",
   "metadata": {
    "tags": []
   },
   "outputs": [],
   "source": [
    "# Join main data to factor data\n",
    "uni = uni.join(ff,how=\"left\",lsuffix='', rsuffix='')"
   ]
  },
  {
   "cell_type": "code",
   "execution_count": null,
   "id": "dd07da60-c56b-499f-b3c0-7efa105ca462",
   "metadata": {},
   "outputs": [],
   "source": [
    "# Drop unwanted data from main data\n",
    "uni = uni[['name','id','date','alpha','market cap','b/m','ebit','investment','vol','mean_return','roa',\n",
    " 'roe','sgi','d/e','return','Mkt-RF','SMB','HML','RMW','CMA','RF']]"
   ]
  },
  {
   "cell_type": "code",
   "execution_count": null,
   "id": "2605c648-c03b-4f48-bc88-0c8f3251f26b",
   "metadata": {},
   "outputs": [],
   "source": [
    "# Calculate excess returns\n",
    "uni['excess_ret'] = uni['return']-uni['RF']"
   ]
  },
  {
   "cell_type": "code",
   "execution_count": null,
   "id": "fc9d8040-ec29-4f66-ba9d-2890c178314c",
   "metadata": {},
   "outputs": [],
   "source": [
    "# Make dataframe to store factor loadings\n",
    "betas = uni.copy()\n",
    "betas['date']=0\n",
    "betas = betas[['date', 'name', 'Mkt-RF', 'SMB', 'HML', 'RMW','CMA']]\n",
    "betas['intercept'] = np.nan\n",
    "betas=betas[betas['name']== 90]"
   ]
  },
  {
   "cell_type": "code",
   "execution_count": null,
   "id": "7de10500-a68c-42f6-a002-2661820c1250",
   "metadata": {},
   "outputs": [],
   "source": [
    "# Get list of sorted dates\n",
    "dates = sorted(uni['date'].unique().tolist())"
   ]
  },
  {
   "cell_type": "code",
   "execution_count": null,
   "id": "ac3c575e-9957-4b91-a888-ae2b478b329e",
   "metadata": {
    "tags": []
   },
   "outputs": [],
   "source": [
    "# Calculate factor loadings for data\n",
    "# A 36 month period was used, all 36 periods werent available a minimum of 12 would be taken \n",
    "import statsmodels.api as sm\n",
    "\n",
    "for i in range(4, len(dates)+1):\n",
    "    print(dates[i-1])\n",
    "    if i < 12: \n",
    "        temp = uni[uni['date'].isin(dates[:i])]\n",
    "        \n",
    "    elif i >= 12:\n",
    "\n",
    "        temp = uni[uni['date'].isin(dates[i-12:i])]\n",
    "\n",
    "    temp['intercept'] = 1\n",
    "    names = temp['name'].unique().tolist()\n",
    "    for n in names:\n",
    "        train = temp[temp['name'] == n][['excess_ret','Mkt-RF', 'SMB', 'HML', 'RMW','CMA', 'intercept']].dropna()\n",
    "        if len(train) > 4:\n",
    "            \n",
    "            model = sm.OLS(train['excess_ret'], train[['Mkt-RF', 'SMB', 'HML', 'RMW','CMA', 'intercept']].dropna()).fit()\n",
    "            betas.loc[len(betas)] = [dates[i-1], n,  model.params[0], model.params[1], model.params[2], model.params[3], model.params[4], model.params[5]]\n"
   ]
  },
  {
   "cell_type": "code",
   "execution_count": null,
   "id": "ef599c21-e01d-4bdc-b728-194b133aee6d",
   "metadata": {},
   "outputs": [],
   "source": [
    "# Make a key to join main data and factor loadings\n",
    "betas.index = betas['date'].astype(str)+betas['name']\n",
    "uni.index = uni['date'].astype(str)+uni['name']"
   ]
  },
  {
   "cell_type": "code",
   "execution_count": null,
   "id": "cc940755-d0a3-4312-9665-1f7a11a84373",
   "metadata": {},
   "outputs": [],
   "source": [
    "# Join the data\n",
    "uni = uni.join(betas, how='left' , lsuffix='', rsuffix='_loading')"
   ]
  },
  {
   "cell_type": "markdown",
   "id": "33518261-8ea8-4bcf-ae5f-c86407447d79",
   "metadata": {},
   "source": [
    "# Shift Returns"
   ]
  },
  {
   "cell_type": "code",
   "execution_count": null,
   "id": "a3efa92f-425b-4ebd-b45e-116778a273ce",
   "metadata": {},
   "outputs": [],
   "source": [
    "# Get list of dates\n",
    "dates = uni['date'].unique().tolist()"
   ]
  },
  {
   "cell_type": "code",
   "execution_count": null,
   "id": "c72594e1-c2bf-469b-9e25-d8754c281fba",
   "metadata": {},
   "outputs": [],
   "source": [
    "# Get dictionary to lag data\n",
    "dic = {}\n",
    "\n",
    "for i in range(len(dates)-1):\n",
    "        dic[dates[i+1]] = dates[i]"
   ]
  },
  {
   "cell_type": "code",
   "execution_count": null,
   "id": "8b820540-4b9b-4a68-adc9-5a4592cee1aa",
   "metadata": {},
   "outputs": [],
   "source": [
    "# Set last date as date\n",
    "uni['last_date'] = uni['date']"
   ]
  },
  {
   "cell_type": "code",
   "execution_count": null,
   "id": "1e7a9c30-e324-4a68-831b-5e3d17ed1071",
   "metadata": {},
   "outputs": [],
   "source": [
    "# Move returns one period backwards\n",
    "\n",
    "for i in range(len(uni)):\n",
    "    if uni.iloc[i,-1] in dic:\n",
    "        uni.iloc[i,-1] = dic[uni.iloc[i,-1]]\n",
    "    else:\n",
    "        uni.iloc[i,-1] = np.nan"
   ]
  },
  {
   "cell_type": "code",
   "execution_count": null,
   "id": "760b22b1-c2c4-4e84-9621-f495e80a530f",
   "metadata": {},
   "outputs": [],
   "source": [
    "# Make adjusted returns a copy of main data\n",
    "returns_adjust = uni.copy()"
   ]
  },
  {
   "cell_type": "code",
   "execution_count": null,
   "id": "842aeee8-5fad-403c-9a3f-8483416ef5cf",
   "metadata": {},
   "outputs": [],
   "source": [
    "# Drop unwanted columns\n",
    "returns_adjust = returns_adjust[['name', 'return', 'last_date', 'RF', 'excess_ret']]"
   ]
  },
  {
   "cell_type": "code",
   "execution_count": null,
   "id": "972523a7-e14d-4884-8351-b9f3cce5fd2f",
   "metadata": {},
   "outputs": [],
   "source": [
    "# Get key to join adjusted returns and main data\n",
    "uni.index = uni['date'].astype(str) + uni['name']\n",
    "returns_adjust.index = returns_adjust['last_date'].astype(str) + returns_adjust['name']"
   ]
  },
  {
   "cell_type": "code",
   "execution_count": null,
   "id": "b9eb05e0-67a7-44ac-ae61-c81222c7bb96",
   "metadata": {},
   "outputs": [],
   "source": [
    "# Join the main data to adjusted returns data\n",
    "uni = uni.join(returns_adjust[['return', 'RF', 'excess_ret']], how='left' , lsuffix='', rsuffix='_adjusted')"
   ]
  },
  {
   "cell_type": "code",
   "execution_count": null,
   "id": "18754514-1c42-4e7b-a6b6-6113049268ea",
   "metadata": {},
   "outputs": [],
   "source": [
    "# Sort values by name then date\n",
    "uni = uni.sort_values(['name','date'], ascending=(True,True)).reset_index(drop=True)"
   ]
  },
  {
   "cell_type": "code",
   "execution_count": null,
   "id": "dc784d65-ab24-4791-8462-b51537b5de09",
   "metadata": {},
   "outputs": [],
   "source": [
    "# Drop unwanted columns\n",
    "uni = uni[['name','id','date', 'alpha', 'market cap', 'b/m', 'ebit','investment', 'vol', 'mean_return', 'roa', 'roe',\n",
    " 'sgi', 'd/e', 'Mkt-RF', 'SMB', 'HML', 'RMW', 'CMA', 'Mkt-RF_loading', 'SMB_loading', 'HML_loading', 'RMW_loading', 'CMA_loading','intercept',\n",
    "           'return_adjusted','RF_adjusted','excess_ret_adjusted']]"
   ]
  },
  {
   "cell_type": "markdown",
   "id": "79b71fec-0c96-4641-a982-544b453808e2",
   "metadata": {},
   "source": [
    "# Back to variables"
   ]
  },
  {
   "cell_type": "code",
   "execution_count": null,
   "id": "017da577-0cdb-4704-b560-6e0982aea099",
   "metadata": {},
   "outputs": [],
   "source": [
    "# Set uni2 as a copy of uni1\n",
    "uni2 = uni.copy()"
   ]
  },
  {
   "cell_type": "code",
   "execution_count": null,
   "id": "9f41de02-ed93-4b02-8b1a-0e1e1500a6cd",
   "metadata": {},
   "outputs": [],
   "source": [
    "# Drop rows where columns are nan \n",
    "uni2 = uni2[uni2['alpha'].notna()]\n",
    "uni2 = uni2[uni2['market cap'].notna()]\n",
    "uni2 = uni2[uni2['b/m'].notna()]\n",
    "uni2 = uni2[uni2['ebit'].notna()]\n",
    "uni2 = uni2[uni2['investment'].notna()]\n",
    "uni2 = uni2[uni2['vol'].notna()]\n",
    "uni2 = uni2[uni2['mean_return'].notna()]\n",
    "uni2 = uni2[uni2['roa'].notna()]\n",
    "uni2 = uni2[uni2['roe'].notna()]\n",
    "uni2 = uni2[uni2['sgi'].notna()]\n",
    "uni2 = uni2[uni2['d/e'].notna()]\n",
    "uni2 = uni2[uni2['return_adjusted'].notna()]\n",
    "\n",
    "uni2 = uni2[uni2['Mkt-RF_loading'].notna()]\n",
    "uni2 = uni2[uni2['SMB_loading'].notna()]\n",
    "uni2 = uni2[uni2['HML_loading'].notna()]\n",
    "uni2 = uni2[uni2['RMW_loading'].notna()]\n",
    "uni2 = uni2[uni2['CMA_loading'].notna()]\n",
    "uni2 = uni2[uni2['intercept'].notna()]"
   ]
  },
  {
   "cell_type": "markdown",
   "id": "29d0d60c-ffc3-415d-87e7-657d7c553f81",
   "metadata": {},
   "source": [
    "# Finishing touches"
   ]
  },
  {
   "cell_type": "code",
   "execution_count": null,
   "id": "877c5491-c5e1-4e18-a7af-4393f72943cd",
   "metadata": {},
   "outputs": [],
   "source": [
    "# Set index as date\n",
    "uni2.index = uni2['date']"
   ]
  },
  {
   "cell_type": "code",
   "execution_count": null,
   "id": "7921b46d-355e-4150-84df-29bc1b609144",
   "metadata": {},
   "outputs": [],
   "source": [
    "# Drop rows with nan values\n",
    "uni2 = uni2.dropna()"
   ]
  },
  {
   "cell_type": "code",
   "execution_count": null,
   "id": "8df53cdd-2e60-419c-bb0e-37e044a0f1cb",
   "metadata": {},
   "outputs": [],
   "source": [
    "# Drop rows where name is duplicated on the same date and keep the first\n",
    "uni2 = uni2.drop_duplicates(['name','date'],keep= 'first')"
   ]
  },
  {
   "cell_type": "code",
   "execution_count": null,
   "id": "9d3d4368-82a9-45d7-83b7-e2f23768d437",
   "metadata": {
    "tags": []
   },
   "outputs": [],
   "source": [
    "# Rename the columns \n",
    "uni2.rename(columns = {'alpha':'Alpha','market cap':'Market Capitalisation','b/m':'Book-to-Market Ratio','ebit':'EBIT'\n",
    "                     ,'investment':'Investment','vol':'Stock Price Volatility','mean_return':'Mean Return'\n",
    "                     ,'roa':'ROA','roe':'ROE','sgi':'SGI','d/e':'Debt-to-Equity Ratio','Mkt-RF_loading':'Market Risk Factor Loading','SMB_loading':'SMB Factor Loading'\n",
    "                     ,'HML_loading':'HML Factor Loading','RMW_loading':'RMW Factor Loading','CMA_loading':'CMA Factor Loading'}, inplace = True)"
   ]
  },
  {
   "cell_type": "code",
   "execution_count": null,
   "id": "d4b55c58-1429-482e-b213-e17100477941",
   "metadata": {},
   "outputs": [],
   "source": [
    "# Reset index of main data\n",
    "uni2 = uni2.reset_index(drop=True)"
   ]
  },
  {
   "cell_type": "code",
   "execution_count": null,
   "id": "4be6b52a-e322-4e83-8887-4e2a59d376d4",
   "metadata": {},
   "outputs": [],
   "source": [
    "# Sort values by name and then date\n",
    "uni2 = uni2.sort_values(['name','date'], ascending=(True,True)).reset_index(drop=True)"
   ]
  },
  {
   "cell_type": "code",
   "execution_count": null,
   "id": "4d4d2976-f06a-40d4-acbf-b419c77e8779",
   "metadata": {
    "tags": []
   },
   "outputs": [],
   "source": [
    "# Drop data to csv file\n",
    "uni2.to_csv(\"EM_universe.csv\", index = False)"
   ]
  }
 ],
 "metadata": {
  "kernelspec": {
   "display_name": "Python 3 (ipykernel)",
   "language": "python",
   "name": "python3"
  },
  "language_info": {
   "codemirror_mode": {
    "name": "ipython",
    "version": 3
   },
   "file_extension": ".py",
   "mimetype": "text/x-python",
   "name": "python",
   "nbconvert_exporter": "python",
   "pygments_lexer": "ipython3",
   "version": "3.8.8"
  }
 },
 "nbformat": 4,
 "nbformat_minor": 5
}
