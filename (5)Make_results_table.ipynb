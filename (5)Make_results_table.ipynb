{
 "cells": [
  {
   "cell_type": "code",
   "execution_count": null,
   "id": "1911917c-c8f2-4666-b84f-448024d4f281",
   "metadata": {},
   "outputs": [],
   "source": [
    "import pandas as pd\n",
    "import numpy as np\n",
    "from scipy import stats"
   ]
  },
  {
   "cell_type": "code",
   "execution_count": null,
   "id": "b9fd3dd3-0ac6-46c5-baf5-bc5fb04984c6",
   "metadata": {},
   "outputs": [],
   "source": [
    "# Read in the data for the SAI and Fama-French methods\n",
    "ret = pd.read_csv('ret.csv', index_col='date')\n",
    "ret_FF = pd.read_csv('ret_FF.csv', index_col='date')\n",
    "siz = pd.read_csv('siz.csv')\n",
    "FF = pd.read_csv('EM_factors.csv', index_col='date')"
   ]
  },
  {
   "cell_type": "code",
   "execution_count": null,
   "id": "b8564194-d474-47c1-a2ba-b0b3e4f62a04",
   "metadata": {},
   "outputs": [],
   "source": [
    "ret_FF.head()"
   ]
  },
  {
   "cell_type": "code",
   "execution_count": null,
   "id": "c2674e39-1b01-4459-961a-1d8c3b0c6673",
   "metadata": {},
   "outputs": [],
   "source": [
    "# Join Fama-French result with SAI results\n",
    "ret['FF'] = ret_FF['Returns'].values\n",
    "siz['FF'] = ret_FF['Length'].values"
   ]
  },
  {
   "cell_type": "code",
   "execution_count": null,
   "id": "55b583c9-ad99-4d05-9efd-f37d1390cd6a",
   "metadata": {},
   "outputs": [],
   "source": [
    "# Get empty dataframe to drop results\n",
    "results = ret[ret['benchmark']=='lllll']"
   ]
  },
  {
   "cell_type": "code",
   "execution_count": null,
   "id": "f4d86b1a-f9a7-4ce7-bea2-5700b879b7ff",
   "metadata": {},
   "outputs": [],
   "source": [
    "# Set data1 column as index\n",
    "FF['date1'] = FF.index"
   ]
  },
  {
   "cell_type": "code",
   "execution_count": null,
   "id": "3345ddf0-102e-4252-aee9-73ef6730e1a7",
   "metadata": {},
   "outputs": [],
   "source": [
    "# Get a dataframe for risk-free-rate\n",
    "rfr = FF[['RF', 'date1']]"
   ]
  },
  {
   "cell_type": "code",
   "execution_count": null,
   "id": "e920f614-babd-4cff-a083-5a7226860456",
   "metadata": {},
   "outputs": [],
   "source": [
    "# Set date1 column as index\n",
    "ret['date1'] = ret.index"
   ]
  },
  {
   "cell_type": "code",
   "execution_count": null,
   "id": "5eda71fc-3351-4c4a-8a6d-aba78412b3f2",
   "metadata": {},
   "outputs": [],
   "source": [
    "# Make date column a string to join the dataframes on\n",
    "ret['joindate'] = ret['date1'].astype(str)\n",
    "rfr['joindate'] = rfr['date1'].astype(str)"
   ]
  },
  {
   "cell_type": "code",
   "execution_count": null,
   "id": "84c4ab18-3f6d-4de9-9931-9918ad8fe8bd",
   "metadata": {},
   "outputs": [],
   "source": [
    "# But the return join date in the right format\n",
    "for i in range(len(ret)):\n",
    "    ret.iloc[i,-1] = ret.iloc[i,-1][:4] + ret.iloc[i,-1][5:7]"
   ]
  },
  {
   "cell_type": "code",
   "execution_count": null,
   "id": "5bcb63e4-bcfc-4fa9-8e82-e7bc486b25c4",
   "metadata": {},
   "outputs": [],
   "source": [
    "# Set risk-free-rate to the right format\n",
    "rfr['RF'] = (rfr['RF']/100)+1"
   ]
  },
  {
   "cell_type": "code",
   "execution_count": null,
   "id": "39115740-1e63-465a-ab28-f2bb1707ca25",
   "metadata": {},
   "outputs": [],
   "source": [
    "# Calculate quarterly risk-free-rate from monthly risk-free-rate\n",
    "rfr['rf'] = 0 \n",
    "\n",
    "for i in range(2, len(rfr)):\n",
    "    rfr.iloc[i,-1] = rfr.iloc[i-2:i+1,0].prod(axis=0)"
   ]
  },
  {
   "cell_type": "code",
   "execution_count": null,
   "id": "4ff41f96-b431-4cee-af45-df766fa2496d",
   "metadata": {},
   "outputs": [],
   "source": [
    "# set the index as joindate\n",
    "rfr = rfr.set_index('joindate')\n",
    "ret = ret.set_index('joindate')"
   ]
  },
  {
   "cell_type": "code",
   "execution_count": null,
   "id": "f5df3f54-67df-4ad5-8613-190557a6b693",
   "metadata": {},
   "outputs": [],
   "source": [
    "# Join the dataframes\n",
    "ret = ret.join(rfr, lsuffix='', rsuffix='f')"
   ]
  },
  {
   "cell_type": "code",
   "execution_count": null,
   "id": "3ae556d3-7109-4be9-8e2b-deb91c459e5c",
   "metadata": {},
   "outputs": [],
   "source": [
    "# Reset the indexes and drop unwanted columns\n",
    "ret = ret.set_index('date1')\n",
    "ret = ret.drop(['date1f', 'RF'], axis =1)"
   ]
  },
  {
   "cell_type": "code",
   "execution_count": null,
   "id": "1d6bfd72-99b1-4212-8244-9f60ae849e9d",
   "metadata": {},
   "outputs": [],
   "source": [
    "# Calculate annualised returns\n",
    "total_ret = (ret.prod(axis=0)**(1/((len(ret)/4)-0.25)))-1"
   ]
  },
  {
   "cell_type": "code",
   "execution_count": null,
   "id": "23dd9f24-622c-42c5-b9d1-421631685090",
   "metadata": {},
   "outputs": [],
   "source": [
    "# Set rfr as annualised risk-free-rate\n",
    "rfr = total_ret['rf']"
   ]
  },
  {
   "cell_type": "code",
   "execution_count": null,
   "id": "8f913762-a8d4-4209-8a68-9f01ca92f323",
   "metadata": {},
   "outputs": [],
   "source": [
    "# Set annualised return in results dataframe\n",
    "results.loc['Annualised Return'] = total_ret.iloc[:-1]"
   ]
  },
  {
   "cell_type": "code",
   "execution_count": null,
   "id": "f65514ee-8a67-4485-8c09-0f37fc075a5a",
   "metadata": {},
   "outputs": [],
   "source": [
    "# Calculate annualised standard deviation and store them\n",
    "ret_std = ret.std(axis=0)*2\n",
    "results.loc['STD of Retrun'] = ret_std.iloc[:-1]"
   ]
  },
  {
   "cell_type": "code",
   "execution_count": null,
   "id": "7f23100a-56e5-4e04-94b0-4aef1b1af680",
   "metadata": {},
   "outputs": [],
   "source": [
    "# Calculate mean portfolio size and store them\n",
    "mean_siz = siz.mean(axis=0)\n",
    "results.loc['Mean # of Equities'] = mean_siz.iloc[:]"
   ]
  },
  {
   "cell_type": "code",
   "execution_count": null,
   "id": "e3b306d3-7b00-470c-bc8d-56d2bf397518",
   "metadata": {},
   "outputs": [],
   "source": [
    "# Get a copy of the returns dataframe\n",
    "ret_for_st = ret.copy()"
   ]
  },
  {
   "cell_type": "markdown",
   "id": "2a43d9f1-3e01-4f37-bf08-70ecf7eab0f5",
   "metadata": {},
   "source": [
    "# Sharpe raitio"
   ]
  },
  {
   "cell_type": "code",
   "execution_count": null,
   "id": "70c0f316-6fbc-477b-aee3-b82b3ac5b9be",
   "metadata": {
    "tags": []
   },
   "outputs": [],
   "source": [
    "# Get a dataframe of excess returns \n",
    "excess_ret = ret.copy()-1\n",
    "\n",
    "rfr1 = excess_ret['rf']\n",
    "for c in excess_ret .columns:\n",
    "    excess_ret[c] = excess_ret[c] - rfr1\n",
    "\n",
    "# Calculate sharpe ratios\n",
    "sharpe = (excess_ret.mean(axis=0)*2)/excess_ret.std(axis=0)\n",
    "print(sharpe)"
   ]
  },
  {
   "cell_type": "code",
   "execution_count": null,
   "id": "93cb1503-adb3-4429-b513-00a0c2ae846f",
   "metadata": {},
   "outputs": [],
   "source": [
    "# Store shapre ratios\n",
    "results.loc['Sharpe Ratio'] = sharpe"
   ]
  },
  {
   "cell_type": "code",
   "execution_count": null,
   "id": "3cbff92a-7a40-425a-80c9-d7b255df02cf",
   "metadata": {},
   "outputs": [],
   "source": [
    "# Calculate and store t-test on sharpe ratio\n",
    "results.loc['Sharpe t-test']= sharpe*(((len(ret)/4)-0.25)**0.5)"
   ]
  },
  {
   "cell_type": "code",
   "execution_count": null,
   "id": "3b30c0c3-e47e-4188-aba6-05aba3748a8b",
   "metadata": {},
   "outputs": [],
   "source": [
    "# Calculate the p-value for t-test\n",
    "import scipy.stats\n",
    "#find p-value\n",
    "deg_freedom = ((len(ret)/4)-0.25)-1\n",
    "\n",
    "results.loc['Sharpe P-val']= scipy.stats.t.sf(results.loc['Sharpe t-test'].tolist(), df=deg_freedom)"
   ]
  },
  {
   "cell_type": "markdown",
   "id": "f65f1ba9-4087-4275-a9b0-fba13eaef005",
   "metadata": {},
   "source": [
    "# tracking error"
   ]
  },
  {
   "cell_type": "code",
   "execution_count": null,
   "id": "0b7a4888-aaab-4811-afcb-0df20fac33ec",
   "metadata": {},
   "outputs": [],
   "source": [
    "# Get dataframe of relative returns\n",
    "relative_ret = ret.copy()\n",
    "bench = relative_ret['benchmark']\n",
    "for c in relative_ret.columns:\n",
    "    print(c)\n",
    "    relative_ret[c] = relative_ret[c] - bench"
   ]
  },
  {
   "cell_type": "code",
   "execution_count": null,
   "id": "005a8a33-c206-488b-9f85-b2a78441420b",
   "metadata": {},
   "outputs": [],
   "source": [
    "# Drop risk-free-rate\n",
    "relative_ret = relative_ret.drop(['rf'], axis=1)"
   ]
  },
  {
   "cell_type": "code",
   "execution_count": null,
   "id": "82389128-1798-49b1-894f-bff43cd91aa0",
   "metadata": {},
   "outputs": [],
   "source": [
    "# Calculate and store the tracking error\n",
    "t_error = relative_ret.std(axis=0)\n",
    "results.loc['Tracking error'] = t_error"
   ]
  },
  {
   "cell_type": "markdown",
   "id": "5c2334e5-7bed-447b-bccc-10bf7f522d0b",
   "metadata": {},
   "source": [
    "# Information ratio"
   ]
  },
  {
   "cell_type": "code",
   "execution_count": null,
   "id": "75bf73d5-a432-4c50-825f-820d5344caee",
   "metadata": {},
   "outputs": [],
   "source": [
    "# Calculate mean relative returns\n",
    "annualised_rel_ret = ((relative_ret).mean(axis=0))*2"
   ]
  },
  {
   "cell_type": "code",
   "execution_count": null,
   "id": "1774d301-6594-4669-9356-6f6709505690",
   "metadata": {},
   "outputs": [],
   "source": [
    "# Calculate information ratio\n",
    "info_ratio = annualised_rel_ret/t_error"
   ]
  },
  {
   "cell_type": "code",
   "execution_count": null,
   "id": "d9ac0042-4629-437c-b804-35c45c9d5efe",
   "metadata": {},
   "outputs": [],
   "source": [
    "info_ratio"
   ]
  },
  {
   "cell_type": "code",
   "execution_count": null,
   "id": "e55395d8-75d7-4e9c-9535-88a386c45242",
   "metadata": {},
   "outputs": [],
   "source": [
    "# Store information ratio and its t-test in results\n",
    "results.loc['Info Ratio'] = info_ratio\n",
    "results.loc['Info Ratio t-stat'] = info_ratio*((len(ret)/4-0.25)**0.5)"
   ]
  },
  {
   "cell_type": "code",
   "execution_count": null,
   "id": "ccaf3310-df85-4ec7-b3ee-3c332fbb6276",
   "metadata": {},
   "outputs": [],
   "source": [
    "# Calculate degrees of freedom\n",
    "deg_freedom = ((len(ret)/4)-0.25)-1\n",
    "# Calculate and store p-value on information ratio\n",
    "results.loc['Info Ratio p-val'] = scipy.stats.t.sf(results.loc['Info Ratio t-stat'].tolist(), df=deg_freedom)"
   ]
  },
  {
   "cell_type": "markdown",
   "id": "c6ea3471-d778-42d3-a72d-07426efe06ab",
   "metadata": {},
   "source": [
    "# target shuffle"
   ]
  },
  {
   "cell_type": "code",
   "execution_count": null,
   "id": "df7bbc17-72a2-41ec-b436-1d262aa7bedc",
   "metadata": {},
   "outputs": [],
   "source": [
    "# Read target shuffle data\n",
    "TS = (pd.read_csv('ts_final.csv')**(1/(len(ret)/4-0.25))-1)"
   ]
  },
  {
   "cell_type": "code",
   "execution_count": null,
   "id": "0ce448b4-6fcc-40d8-9f3c-bf888b153eea",
   "metadata": {},
   "outputs": [],
   "source": [
    "# Set place for target shuffle percentile\n",
    "results.loc['Target Shuffle Percentile'] = 0"
   ]
  },
  {
   "cell_type": "code",
   "execution_count": null,
   "id": "d7010d1e-3a0b-4ff2-9537-c078d9b1495c",
   "metadata": {},
   "outputs": [],
   "source": [
    "# Calculate and store target shuffle percentile \n",
    "for i in range(len(TS.columns)):\n",
    "    print(TS.columns[i])\n",
    "    print(stats.percentileofscore(TS.iloc[:,i],total_ret[i]))\n",
    "    results.iloc[-1,i] = stats.percentileofscore(TS.iloc[:,i],total_ret[i])"
   ]
  },
  {
   "cell_type": "code",
   "execution_count": null,
   "id": "2ea3f90e-631c-43f4-8f89-7ebf438519e0",
   "metadata": {},
   "outputs": [],
   "source": [
    "# Drop unwanted columns\n",
    "results = results[[ 'benchmark',\n",
    " 'FF','assoc_rules',\n",
    " 'chi',\n",
    " 'LMM',\n",
    " 'odds',\n",
    " 'chi_or_LLM',\n",
    " 'chi_and_LLM',\n",
    " 'chi_or_odds',\n",
    " 'chi_and_odds',\n",
    " 'LLM_or_odds',\n",
    " 'LLM_and_odds',\n",
    " 'chi_or_odds_or_LLM',\n",
    " 'chi_and_odds_and_LLM',\n",
    "]]"
   ]
  },
  {
   "cell_type": "markdown",
   "id": "afc352f2-8336-4446-ad66-b136cce54df4",
   "metadata": {},
   "source": [
    "# Drop results \n",
    "results.to_excel('main_results_table.xlsx',index=True)"
   ]
  },
  {
   "cell_type": "markdown",
   "id": "de7d494a-1beb-4835-adfe-bd7443a40481",
   "metadata": {},
   "source": [
    "# Factor Attribution"
   ]
  },
  {
   "cell_type": "code",
   "execution_count": null,
   "id": "6d27fc7d-645f-4bd5-9b74-a6913b9c5758",
   "metadata": {},
   "outputs": [],
   "source": [
    "# Take one from returns \n",
    "ret = ret -1"
   ]
  },
  {
   "cell_type": "code",
   "execution_count": null,
   "id": "a9ba101a-51c8-4fa5-8a16-d76c89de97cd",
   "metadata": {},
   "outputs": [],
   "source": [
    "# Calculate excess returns\n",
    "RFR = ret['rf']\n",
    "\n",
    "for c in ret.columns:\n",
    "    print(c)\n",
    "    ret[c] = ret[c] - RFR"
   ]
  },
  {
   "cell_type": "code",
   "execution_count": null,
   "id": "308586b4-9e0d-4c6c-879d-bcb08040197c",
   "metadata": {},
   "outputs": [],
   "source": [
    "# Make a date as a join key\n",
    "ret['joindate'] = ret.index.astype(str)\n",
    "FF['joindate'] = FF['date1'].astype(str)"
   ]
  },
  {
   "cell_type": "code",
   "execution_count": null,
   "id": "1b670af8-b8b3-4d72-ba68-07f62dcd6a89",
   "metadata": {},
   "outputs": [],
   "source": [
    "# Set key in the right format\n",
    "for i in range(len(ret)):\n",
    "    ret.iloc[i,-1] = ret.iloc[i,-1][:4] + ret.iloc[i,-1][5:7] "
   ]
  },
  {
   "cell_type": "code",
   "execution_count": null,
   "id": "bdab07e7-8107-4b4a-80a6-1b0b596386bd",
   "metadata": {},
   "outputs": [],
   "source": [
    "# Set index as join date\n",
    "FF = FF.set_index('joindate')\n",
    "ret = ret.set_index('joindate')"
   ]
  },
  {
   "cell_type": "code",
   "execution_count": null,
   "id": "b8296d0e-4497-4fb4-ba71-9689a9b0d6f8",
   "metadata": {},
   "outputs": [],
   "source": [
    "# Join the dataframes\n",
    "ret = ret.join(FF[['Mkt-RF', 'SMB', 'HML', 'RMW','CMA']], lsuffix='', rsuffix='f')"
   ]
  },
  {
   "cell_type": "code",
   "execution_count": null,
   "id": "c7e4335f-636f-4c4f-9078-e449731d0401",
   "metadata": {},
   "outputs": [],
   "source": [
    "import statsmodels.api as sm\n",
    "# Calculate the factor attributions for the returns data\n",
    "\n",
    "column_names = ['Mkt-RF', 'SMB','HML','RMW' ,'CMA', 'Alpha']\n",
    "# Create an empty DataFrame with column names\n",
    "fa_results = pd.DataFrame(columns=column_names)\n",
    "\n",
    "ret['intercept'] = 1\n",
    "\n",
    "cols = ['assoc_rules', 'chi', 'LMM', 'odds', 'chi_or_LLM', 'chi_and_LLM',\n",
    "       'chi_or_odds', 'chi_and_odds', 'LLM_or_odds', 'LLM_and_odds',\n",
    "       'chi_or_odds_or_LLM', 'chi_and_odds_and_LLM', 'FF']\n",
    "for col in cols: \n",
    "    model = sm.OLS(ret[col], ret[['Mkt-RF', 'SMB', 'HML', 'RMW','CMA', 'intercept']]).fit()\n",
    "    fa_results.loc[col] = [model.params[0], model.params[1], model.params[2], model.params[3], model.params[4], model.params[5]]\n",
    "    fa_results.loc[col+' t-stat'] = [model.tvalues[0], model.tvalues[1], model.tvalues[2], model.tvalues[3], model.tvalues[4], model.tvalues[5]]\n",
    "    fa_results.loc[col+' P-value'] = [model.pvalues[0], model.pvalues[1], model.pvalues[2], model.pvalues[3], model.pvalues[4], model.pvalues[5]]"
   ]
  },
  {
   "cell_type": "markdown",
   "id": "d6562767-bf3f-47e2-8645-af2850241ddf",
   "metadata": {},
   "source": [
    "# Style Tilt "
   ]
  },
  {
   "cell_type": "code",
   "execution_count": null,
   "id": "28f7358b-2615-45e6-a209-894a8c111395",
   "metadata": {},
   "outputs": [],
   "source": [
    "# Calculate excess returns\n",
    "RFR = ret_for_st['rf']\n",
    "\n",
    "for c in ret_for_st.columns:\n",
    "    print(c)\n",
    "    ret_for_st[c] = ret_for_st[c] - RFR"
   ]
  },
  {
   "cell_type": "code",
   "execution_count": null,
   "id": "f2051f5b-9385-4afc-a530-4e83d736f4b9",
   "metadata": {},
   "outputs": [],
   "source": [
    "# Take one from returns\n",
    "ret2 = ret_for_st.copy()-1"
   ]
  },
  {
   "cell_type": "code",
   "execution_count": null,
   "id": "1706c101-6784-4912-9fd1-9ff4a95e2c53",
   "metadata": {},
   "outputs": [],
   "source": [
    "# Read style tilts data\n",
    "tilts = pd.read_excel('Style_Tilts.xlsx', index_col='Date')"
   ]
  },
  {
   "cell_type": "code",
   "execution_count": null,
   "id": "b5b0fe66-d721-4d72-815f-6032bc3ff82c",
   "metadata": {},
   "outputs": [],
   "source": [
    "# Make a join key on data \n",
    "tilts['joindate'] = tilts.index.strftime('%m%Y')\n",
    "ret2['joindate'] = pd.to_datetime(ret2.index).strftime('%m%Y')"
   ]
  },
  {
   "cell_type": "code",
   "execution_count": null,
   "id": "e37833d0-9b19-4971-868c-bcc9dc2f4626",
   "metadata": {},
   "outputs": [],
   "source": [
    "# Set index as join key\n",
    "tilts = tilts.set_index('joindate')\n",
    "ret2 = ret2.set_index('joindate')"
   ]
  },
  {
   "cell_type": "code",
   "execution_count": null,
   "id": "6f36a21d-8752-4282-82f7-f8911b4c0e7b",
   "metadata": {},
   "outputs": [],
   "source": [
    "# Join the dataframes\n",
    "ret2 = ret2.join(tilts, lsuffix='', rsuffix='f')"
   ]
  },
  {
   "cell_type": "code",
   "execution_count": null,
   "id": "0ae96549-2a2e-4098-ae54-c7d72a37af30",
   "metadata": {},
   "outputs": [],
   "source": [
    "# Calculate the relative returns of the style tilts \n",
    "ret2['Small Cap'] = ret2['Small Cap'] - ret2['EM']\n",
    "ret2['Value'] = ret2['Value'] - ret2['EM']\n",
    "ret2['Quality'] = ret2['Quality'] - ret2['EM']\n",
    "ret2['Min Vol'] = ret2['Min Vol'] - ret2['EM']\n",
    "ret2['Momentum'] = ret2['Momentum'] - ret2['EM']\n",
    "ret2['Dividend Yield'] = ret2['Dividend Yield'] - ret2['EM']\n",
    "ret2['EM'] = ret2['EM'] - ret2['rf']\n"
   ]
  },
  {
   "cell_type": "code",
   "execution_count": null,
   "id": "298285d6-54d7-47df-a00c-985ae5f6aa61",
   "metadata": {},
   "outputs": [],
   "source": [
    "# Calculate the style tilt attributions \n",
    "column_names = ['EM', 'Small Cap', 'Value', 'Quality', 'Min Vol', 'Momentum', 'Dividend Yield', 'Alpha']\n",
    "# Create an empty DataFrame with column names\n",
    "st_results = pd.DataFrame(columns=column_names)\n",
    "\n",
    "column_names2 = ['R^2', 'Residuals']\n",
    "# Create an empty DataFrame with column names\n",
    "RS_results = pd.DataFrame(columns=column_names2)\n",
    "\n",
    "\n",
    "\n",
    "ret2['intercept'] = 1\n",
    "\n",
    "cols = ['assoc_rules', 'chi', 'LMM', 'odds', 'chi_or_LLM', 'chi_and_LLM',\n",
    "       'chi_or_odds', 'chi_and_odds', 'LLM_or_odds', 'LLM_and_odds',\n",
    "       'chi_or_odds_or_LLM', 'chi_and_odds_and_LLM', 'FF']\n",
    "for col in cols: \n",
    "    model = sm.OLS(ret2[col], ret2[['EM', 'Small Cap', 'Value', 'Quality', 'Min Vol', 'Momentum','Dividend Yield', 'intercept']]).fit()\n",
    "    st_results.loc[col] = [model.params[0], model.params[1], model.params[2], model.params[3], model.params[4], model.params[5], model.params[6], model.params[7]]\n",
    "    st_results.loc[col+' t-stat'] = [model.tvalues[0], model.tvalues[1], model.tvalues[2], model.tvalues[3], model.tvalues[4], model.tvalues[5], model.tvalues[6], model.tvalues[7]]\n",
    "    st_results.loc[col+' P-value'] = [model.pvalues[0], model.pvalues[1], model.pvalues[2], model.pvalues[3], model.pvalues[4], model.pvalues[5], model.pvalues[6], model.pvalues[7]]\n",
    "    RS_results.loc[col] = [model.rsquared, abs(model.resid).mean()]"
   ]
  },
  {
   "cell_type": "code",
   "execution_count": null,
   "id": "e6f6725e-7c53-447f-a309-f718a04d4a4e",
   "metadata": {},
   "outputs": [],
   "source": [
    "# Drop results\n",
    "RS_results.to_excel('RS_results.xlsx',index=True)"
   ]
  },
  {
   "cell_type": "code",
   "execution_count": null,
   "id": "f903a00b-4a6b-4f65-bf3c-105d84f63ad5",
   "metadata": {},
   "outputs": [],
   "source": [
    "# Drop results\n",
    "st_results.to_excel('style_tilts_results_table.xlsx',index=True)"
   ]
  },
  {
   "cell_type": "markdown",
   "id": "ebc8fa14-61be-4d72-a525-b36dc3aa7a76",
   "metadata": {},
   "source": [
    "fa_results.to_excel('factor_attribution_results_table.xlsx',index=True)"
   ]
  }
 ],
 "metadata": {
  "kernelspec": {
   "display_name": "Python 3 (ipykernel)",
   "language": "python",
   "name": "python3"
  },
  "language_info": {
   "codemirror_mode": {
    "name": "ipython",
    "version": 3
   },
   "file_extension": ".py",
   "mimetype": "text/x-python",
   "name": "python",
   "nbconvert_exporter": "python",
   "pygments_lexer": "ipython3",
   "version": "3.8.8"
  }
 },
 "nbformat": 4,
 "nbformat_minor": 5
}
