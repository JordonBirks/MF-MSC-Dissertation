{
 "cells": [
  {
   "cell_type": "code",
   "execution_count": null,
   "id": "a6bf3da4-082f-4ead-9d63-b0600781750e",
   "metadata": {},
   "outputs": [],
   "source": [
    "import pandas as pd \n",
    "import numpy as np"
   ]
  },
  {
   "cell_type": "markdown",
   "id": "75d5c948-cc36-4d4c-ae3c-c9f984aef5af",
   "metadata": {},
   "source": [
    "# This section turns the global fundamentals data into EM data"
   ]
  },
  {
   "cell_type": "markdown",
   "id": "6b054a60-eeee-41cc-a362-06b8a94b40f2",
   "metadata": {},
   "source": [
    "fund = pd.read_csv('Glo_Fund.csv', index_col= 'datadate')"
   ]
  },
  {
   "cell_type": "markdown",
   "id": "69b99105-8b4c-4e86-ac77-e139f95bbee4",
   "metadata": {},
   "source": [
    "fund['niq'] = fund['piq'] - fund['txtq']"
   ]
  },
  {
   "cell_type": "markdown",
   "id": "e6f69139-31a3-4d19-8e79-d87bfcf36cec",
   "metadata": {},
   "source": [
    "fund = fund[['conm', 'sedol', 'fic', 'curcdq',\n",
    "       'atq', 'ltq', 'niq', 'oiadpq', 'revtq']]"
   ]
  },
  {
   "cell_type": "markdown",
   "id": "b7e0a921-2c7a-465c-b809-1e51426d6b78",
   "metadata": {},
   "source": [
    "EM_countries = ['BRA', 'CHL', 'CHN', 'COL', 'CZE', 'EGY', 'GRC', 'HUN', 'IND', 'IDN', 'KOR', 'KWT', 'MYS', 'MEX', 'PER', 'PHL', 'POL', 'QAT', 'SAU', \n",
    "               'ZAF', 'TWN', 'THA', 'TUR', 'ARE']"
   ]
  },
  {
   "cell_type": "markdown",
   "id": "2ba5c120-2157-44b0-9f0f-028dfe3b053b",
   "metadata": {},
   "source": [
    "fund = fund[fund['fic'].isin(EM_countries)]"
   ]
  },
  {
   "cell_type": "markdown",
   "id": "df0d56d5-549f-42f7-b177-e83ed5c12fa4",
   "metadata": {},
   "source": [
    "fund.to_csv('EM_fund.csv',index=True)"
   ]
  },
  {
   "cell_type": "markdown",
   "id": "0556f39b-4ceb-45eb-861e-cad6c470cd11",
   "metadata": {},
   "source": [
    "# Now working with EM data"
   ]
  },
  {
   "cell_type": "code",
   "execution_count": null,
   "id": "38428e35-8b60-4f8d-a5aa-64ff5f9d64e5",
   "metadata": {},
   "outputs": [],
   "source": [
    "# Load fundamentals data, just from emerging markets\n",
    "fund = pd.read_csv('EM_Fund.csv', index_col= 'datadate')"
   ]
  },
  {
   "cell_type": "code",
   "execution_count": null,
   "id": "8cd22314-1365-4fb4-b0cb-35b713f6d844",
   "metadata": {},
   "outputs": [],
   "source": [
    "# Make index into datetime type\n",
    "fund.index = pd.to_datetime(fund.index)"
   ]
  },
  {
   "cell_type": "code",
   "execution_count": null,
   "id": "bd16c6c1-3277-4206-bca3-45abf553314c",
   "metadata": {},
   "outputs": [],
   "source": [
    "# Sort the index\n",
    "fund = fund.sort_index()"
   ]
  },
  {
   "cell_type": "markdown",
   "id": "9d5b4c89-afbb-47c4-b3a8-79d6c93cea3f",
   "metadata": {},
   "source": [
    "sedols = fund['sedol'].drop_duplicates()"
   ]
  },
  {
   "cell_type": "markdown",
   "id": "6334c439-6722-414d-8258-6bf170495758",
   "metadata": {},
   "source": [
    "sedols.to_csv('sedols.csv',index=False)"
   ]
  },
  {
   "cell_type": "markdown",
   "id": "0dcb14eb-4690-49d4-8433-0ed6cca0706a",
   "metadata": {},
   "source": [
    "# Sort out the dates for price data"
   ]
  },
  {
   "cell_type": "markdown",
   "id": "b7b24ed3-25b6-4c2e-93d9-e19bde0f572c",
   "metadata": {},
   "source": [
    "# Dont save these as they are too big, you can get them using the compustat library and the sedol list above\n",
    "price = pd.read_csv('Daily_EM_price.csv', index_col= 'datadate')\n",
    "price = price[['conm','sedol','curcdd','prccd','cshoc']]"
   ]
  },
  {
   "cell_type": "markdown",
   "id": "ad59ac4f-273e-4395-8890-ea4201159f4b",
   "metadata": {},
   "source": [
    "price.head()"
   ]
  },
  {
   "cell_type": "markdown",
   "id": "f42f8103-1dd4-484f-b3bd-7ae46391d75d",
   "metadata": {},
   "source": [
    "price.index = pd.to_datetime(price.index)"
   ]
  },
  {
   "cell_type": "markdown",
   "id": "f7b69178-96ed-416c-98dd-c098ceeb3dc4",
   "metadata": {},
   "source": [
    "price = price[price.index.month.isin([3,6,9,12])]"
   ]
  },
  {
   "cell_type": "markdown",
   "id": "413555b6-b906-4b16-a751-a98ce3ad370c",
   "metadata": {},
   "source": [
    "price = price[price.index.day.isin([31,30,29,28,27,26])]"
   ]
  },
  {
   "cell_type": "markdown",
   "id": "327e7cd3-b171-42e1-9455-ce9e4109c464",
   "metadata": {},
   "source": [
    "price['weekday'] = price.index.dayofweek"
   ]
  },
  {
   "cell_type": "markdown",
   "id": "fbfab296-2e02-4dbf-a7fe-a18005020402",
   "metadata": {},
   "source": [
    "price.head()"
   ]
  },
  {
   "cell_type": "markdown",
   "id": "81d75ed3-4f1d-4423-9128-2c603107f3ce",
   "metadata": {},
   "source": [
    "price = price[price['weekday'] < 5]"
   ]
  },
  {
   "cell_type": "markdown",
   "id": "89a02416-f4ea-405a-bee5-ee557106bacf",
   "metadata": {},
   "source": [
    "price=price.sort_index()"
   ]
  },
  {
   "cell_type": "markdown",
   "id": "48534564-b927-4dce-ada7-5d2f681c4bac",
   "metadata": {},
   "source": [
    "price.index = price.index.astype(str)"
   ]
  },
  {
   "cell_type": "markdown",
   "id": "854f8445-8ceb-4c7d-b412-1feefce4a8f1",
   "metadata": {
    "tags": []
   },
   "source": [
    "last_date_of_each_q = [\n",
    " '2000-03-31',\n",
    " '2000-06-30',\n",
    " '2000-09-29',\n",
    " '2000-12-29',\n",
    " '2001-03-30',\n",
    " '2001-06-29',\n",
    " '2001-09-28',\n",
    " '2001-12-31',\n",
    " '2002-03-29',\n",
    " '2002-06-28',\n",
    " '2002-09-30',\n",
    " '2002-12-31',\n",
    " '2003-03-31',\n",
    " '2003-06-30',\n",
    " '2003-09-30',\n",
    " '2003-12-31',\n",
    " '2004-03-31',\n",
    " '2004-06-30',\n",
    " '2004-09-30',\n",
    " '2004-12-31',\n",
    " '2005-03-31',\n",
    " '2005-06-30',\n",
    " '2005-09-30',\n",
    " '2005-12-30',\n",
    " '2006-03-31',\n",
    " '2006-06-30',\n",
    " '2006-09-29',\n",
    " '2006-12-29',\n",
    " '2007-03-30',\n",
    " '2007-06-29',\n",
    " '2007-09-28',\n",
    " '2007-12-31',\n",
    " '2008-03-31',\n",
    " '2008-06-30',\n",
    " '2008-09-30',\n",
    " '2008-12-31',\n",
    " '2009-03-31',\n",
    " '2009-06-30',\n",
    " '2009-09-30',\n",
    " '2009-12-31',\n",
    " '2010-03-31',\n",
    " '2010-06-30',\n",
    " '2010-09-30',\n",
    " '2010-12-31',\n",
    " '2011-03-31',\n",
    " '2011-06-30',\n",
    " '2011-09-30',\n",
    " '2011-12-30',\n",
    " '2012-03-30',\n",
    " '2012-06-29',\n",
    " '2012-09-28',\n",
    " '2012-12-31',\n",
    " '2013-03-29',\n",
    " '2013-06-28',\n",
    " '2013-09-30',\n",
    " '2013-12-31',\n",
    " '2014-03-31',\n",
    " '2014-06-30',\n",
    " '2014-09-30',\n",
    " '2014-12-31',\n",
    " '2015-03-31',\n",
    " '2015-06-30',\n",
    " '2015-09-30',\n",
    " '2015-12-31',\n",
    " '2016-03-31',\n",
    " '2016-06-30',\n",
    " '2016-09-30',\n",
    " '2016-12-30',\n",
    " '2017-03-31',\n",
    " '2017-06-30',\n",
    " '2017-09-29',\n",
    " '2017-12-29',\n",
    " '2018-03-30',\n",
    " '2018-06-29',\n",
    " '2018-09-28',\n",
    " '2018-12-31',\n",
    " '2019-03-29',\n",
    " '2019-06-28',\n",
    " '2019-09-30',\n",
    " '2019-12-31',\n",
    " '2020-03-31',\n",
    " '2020-06-30',\n",
    " '2020-09-30',\n",
    " '2020-12-31',\n",
    " '2021-03-31',\n",
    " '2021-06-30',\n",
    " '2021-09-30',\n",
    " '2021-12-31',\n",
    " '2022-03-31',\n",
    " '2022-06-30',\n",
    " '2022-09-30',\n",
    " '2022-12-30',\n",
    " '2023-03-31',\n",
    " '2023-06-30']"
   ]
  },
  {
   "cell_type": "markdown",
   "id": "410505de-81b0-4ee0-95d2-0ee865b9dd6e",
   "metadata": {},
   "source": [
    "price = price[price.index.isin(last_date_of_each_q)]"
   ]
  },
  {
   "cell_type": "markdown",
   "id": "7737bcb0-e4fc-409c-85ac-087419c5f249",
   "metadata": {},
   "source": [
    "price.to_csv('Quarterly_EM_price.csv',index=True)"
   ]
  },
  {
   "cell_type": "markdown",
   "id": "96453d52-d5c9-40cd-9179-9a9590075312",
   "metadata": {},
   "source": [
    "# Now using quarterly price data "
   ]
  },
  {
   "cell_type": "code",
   "execution_count": null,
   "id": "de44d508-961f-45ef-a9d4-081c899cba27",
   "metadata": {},
   "outputs": [],
   "source": [
    "# Load quarterly emerging markets data\n",
    "price = pd.read_csv('Quarterly_EM_price.csv', index_col= 'datadate')"
   ]
  },
  {
   "cell_type": "code",
   "execution_count": null,
   "id": "549c2397-a9b3-443b-8f58-0024e117704c",
   "metadata": {},
   "outputs": [],
   "source": [
    "# Cut unwanted variables from market data\n",
    "price = price[['conm', 'sedol', 'curcdd', 'prccd', 'cshoc']]"
   ]
  },
  {
   "cell_type": "code",
   "execution_count": null,
   "id": "2ea6a84e-b8a0-46ef-8866-db19a1912315",
   "metadata": {},
   "outputs": [],
   "source": [
    "# Set index of price to datetime type\n",
    "price.index = pd.to_datetime(price.index)"
   ]
  },
  {
   "cell_type": "code",
   "execution_count": null,
   "id": "fb32156b-045d-4aa5-9113-8ad332905591",
   "metadata": {},
   "outputs": [],
   "source": [
    "# Lag fundamental data date by 2 months and 20 days\n",
    "price['date'] = price.index - pd.DateOffset(months=2) - pd.DateOffset(days=20)"
   ]
  },
  {
   "cell_type": "code",
   "execution_count": null,
   "id": "8b5e4ab4-c83c-46d0-9f01-e48023de16f9",
   "metadata": {},
   "outputs": [],
   "source": [
    "# Get unique list of date in fundamental and market data\n",
    "price_dates = price['date'].unique().tolist()\n",
    "fund_dates = fund.index.unique().tolist()"
   ]
  },
  {
   "cell_type": "code",
   "execution_count": null,
   "id": "b33def16-6246-49e4-8153-67978598edca",
   "metadata": {
    "tags": []
   },
   "outputs": [],
   "source": [
    "# Creates a dictionary with newest fundamental date before the market data date\n",
    "\n",
    "dic = {}\n",
    "\n",
    "for d in price_dates:\n",
    "    f = [i for i in fund_dates if i <= d]\n",
    "    if len(f)>0:\n",
    "        dic[d] = max(f)"
   ]
  },
  {
   "cell_type": "code",
   "execution_count": null,
   "id": "405d1774-804f-46ba-9116-4d4458ea8b02",
   "metadata": {
    "tags": []
   },
   "outputs": [],
   "source": [
    "# Make a column in price which has the needed fundamentals dates\n",
    "for i in range(len(price)):\n",
    "    if price.iloc[i,-1] in dic:\n",
    "        price.iloc[i,-1] = dic[price.iloc[i,-1]]\n",
    "    else:\n",
    "        price.iloc[i,-1] = np.nan"
   ]
  },
  {
   "cell_type": "code",
   "execution_count": null,
   "id": "1c94c55f-0313-4d2c-9be9-028912a5b0f6",
   "metadata": {},
   "outputs": [],
   "source": [
    "# Make the index of price and fund a key of date + company name\n",
    "fund['kdate']=fund.index.astype(str)\n",
    "price['buy_date']=price.index\n",
    "price['kdate']=price['date'].astype(str)\n",
    "\n",
    "fund.index  = fund['kdate']+fund['conm']\n",
    "price.index  = price['kdate'] +price['conm']"
   ]
  },
  {
   "cell_type": "code",
   "execution_count": null,
   "id": "c28390ba-19c3-4c76-8cde-984765e20cb0",
   "metadata": {},
   "outputs": [],
   "source": [
    "# Join the dataframes on the key date\n",
    "data = price.join(fund,how=\"left\",lsuffix='', rsuffix='f')"
   ]
  },
  {
   "cell_type": "code",
   "execution_count": null,
   "id": "77e35efa-0db2-4c46-94f8-f9b6cf8e14af",
   "metadata": {},
   "outputs": [],
   "source": [
    "# Drop unwanted columns from joined dataset\n",
    "data = data[['conm', 'sedol', 'curcdd', 'prccd', 'cshoc', 'buy_date',\n",
    "         'atq', 'ltq', 'niq', 'oiadpq', 'revtq']]"
   ]
  },
  {
   "cell_type": "code",
   "execution_count": null,
   "id": "be753f44-0c4b-4ac8-a235-8718fd94b838",
   "metadata": {},
   "outputs": [],
   "source": [
    "# Drop row which have the same company name on the same date\n",
    "data = data.drop_duplicates(['conm','buy_date'],keep= 'first')"
   ]
  },
  {
   "cell_type": "code",
   "execution_count": null,
   "id": "8abd2f1f-ae57-490d-ae54-8c8be67cc4fb",
   "metadata": {},
   "outputs": [],
   "source": [
    "# Drop columns from data that have certain values as nan\n",
    "data = data[data['conm'].notna()]\n",
    "data = data[data['curcdd'].notna()]\n",
    "data = data[data['prccd'].notna()]\n",
    "data = data[data['cshoc'].notna()]\n",
    "data = data[data['buy_date'].notna()]\n",
    "data = data[data['atq'].notna()]\n",
    "data = data[data['ltq'].notna()]"
   ]
  },
  {
   "cell_type": "markdown",
   "id": "a737eac2-747a-40b1-93f8-b583e49453fd",
   "metadata": {},
   "source": [
    "# Currency Excahnge "
   ]
  },
  {
   "cell_type": "code",
   "execution_count": null,
   "id": "42773d20-471d-4456-8b8b-294370b87f58",
   "metadata": {},
   "outputs": [],
   "source": [
    "# Read in foreign exchange data\n",
    "fx = pd.read_csv('fx.csv', index_col= 'ANNDATS')"
   ]
  },
  {
   "cell_type": "code",
   "execution_count": null,
   "id": "e007dadc-e184-4a68-b611-dc93e3e2fe9d",
   "metadata": {},
   "outputs": [],
   "source": [
    "# Set index of forex data to datetime type\n",
    "fx.index = pd.to_datetime(fx.index)"
   ]
  },
  {
   "cell_type": "code",
   "execution_count": null,
   "id": "838c3820-4091-426e-a3ad-527cf199493b",
   "metadata": {},
   "outputs": [],
   "source": [
    "# Set forex date column as index\n",
    "fx['date'] = fx.index\n",
    "# Sort fund by index\n",
    "fund = fund.sort_index()"
   ]
  },
  {
   "cell_type": "code",
   "execution_count": null,
   "id": "9fc0cadd-31e5-44ee-bd83-780750c3f83b",
   "metadata": {},
   "outputs": [],
   "source": [
    "# Get forex dates and data dates in 2 lists \n",
    "buy_dates = data['buy_date'].unique().tolist()\n",
    "fx_dates = fx.index.unique().tolist()"
   ]
  },
  {
   "cell_type": "code",
   "execution_count": null,
   "id": "b99c67d2-cf13-4701-80eb-d949410207ea",
   "metadata": {
    "tags": []
   },
   "outputs": [],
   "source": [
    "# Find the foreign exchange date closest (but not after) the buy date and add them to dictionary\n",
    "dic2 = {}\n",
    "\n",
    "for d in buy_dates:\n",
    "    f = [i for i in fx_dates if i <= d]\n",
    "    \n",
    "    if len(f)>0:\n",
    "        dic2[d] = max(f)"
   ]
  },
  {
   "cell_type": "code",
   "execution_count": null,
   "id": "8d23a9b3-a95e-4e51-934a-f821d9bcebab",
   "metadata": {
    "tags": []
   },
   "outputs": [],
   "source": [
    "# Set cur_date column as na\n",
    "data['cur_date'] = np.nan"
   ]
  },
  {
   "cell_type": "code",
   "execution_count": null,
   "id": "55962668-3cb3-45f6-8aa7-45a274c04918",
   "metadata": {
    "tags": []
   },
   "outputs": [],
   "source": [
    "# Set date column cur_date as forex date\n",
    "for i in range(len(data)):\n",
    "    if data.iloc[i,-7] in dic2:\n",
    "        data.iloc[i,-1] = dic2[data.iloc[i,-7]]"
   ]
  },
  {
   "cell_type": "code",
   "execution_count": null,
   "id": "9d19315b-5956-4fc1-bac6-72feb38279c3",
   "metadata": {},
   "outputs": [],
   "source": [
    "# Set cur_date as datetime type\n",
    "data['cur_date'] = pd.to_datetime(data['cur_date'])"
   ]
  },
  {
   "cell_type": "code",
   "execution_count": null,
   "id": "9225dd67-1141-43c5-bafc-46486f499481",
   "metadata": {},
   "outputs": [],
   "source": [
    "# Make a key to join fx and data\n",
    "fx.index = fx['date'].astype(str)+fx['CURR']\n",
    "data.index = data['cur_date'].astype(str)+ data['curcdd']"
   ]
  },
  {
   "cell_type": "code",
   "execution_count": null,
   "id": "5fe93f60-f00a-45c6-99c9-d242fa3149e0",
   "metadata": {},
   "outputs": [],
   "source": [
    "# Join fx and data on key\n",
    "data = data.join(fx,how=\"left\",lsuffix='', rsuffix='')"
   ]
  },
  {
   "cell_type": "code",
   "execution_count": null,
   "id": "8d636901-2d7a-4892-8ab0-46541efb6144",
   "metadata": {},
   "outputs": [],
   "source": [
    "# Drop rows where exchange rate isnt available\n",
    "data = data[data['EXRAT'].notna()]"
   ]
  },
  {
   "cell_type": "code",
   "execution_count": null,
   "id": "b303fc96-ea00-438f-8ed9-1f03ae83f4da",
   "metadata": {},
   "outputs": [],
   "source": [
    "# Set data index as buy date \n",
    "data.index  = data['buy_date']"
   ]
  },
  {
   "cell_type": "code",
   "execution_count": null,
   "id": "fe8d8a38-990a-4583-ae5f-f33b7d4f60e5",
   "metadata": {},
   "outputs": [],
   "source": [
    "# Drop unwanted columns from data\n",
    "data = data[['conm', 'sedol', 'curcdd', 'prccd', 'cshoc', 'buy_date',\n",
    "         'atq', 'ltq', 'niq', 'oiadpq', 'revtq','EXRAT']]"
   ]
  },
  {
   "cell_type": "code",
   "execution_count": null,
   "id": "21fdf2ae-0686-48f9-a71c-22dacc50b19d",
   "metadata": {},
   "outputs": [],
   "source": [
    "# Set exchange rate to zero where currency is dollar\n",
    "data.loc[data[\"curcdd\"] == \"USD\", \"EXRAT\"] = 1"
   ]
  },
  {
   "cell_type": "code",
   "execution_count": null,
   "id": "8475db42-a71d-4f9c-9a60-4d519fdf3ba5",
   "metadata": {},
   "outputs": [],
   "source": [
    "# Convert currencies to USD\n",
    "data['prccd'] =  data['prccd']*data['EXRAT']\n",
    "data['atq'] =  data['atq']*data['EXRAT']\n",
    "data['ltq'] =  data['ltq']*data['EXRAT']\n",
    "data['niq'] =  data['niq']*data['EXRAT']\n",
    "data['oiadpq'] =  data['oiadpq']*data['EXRAT']\n",
    "data['revtq'] =  data['revtq']*data['EXRAT']"
   ]
  },
  {
   "cell_type": "code",
   "execution_count": null,
   "id": "446c714c-528f-4794-96d3-e24eef444a9a",
   "metadata": {},
   "outputs": [],
   "source": [
    "# Drop unwanted columns from data\n",
    "data = data[['conm', 'sedol', 'curcdd', 'prccd', 'cshoc',\n",
    "         'atq', 'ltq', 'niq', 'oiadpq', 'revtq']]"
   ]
  },
  {
   "cell_type": "code",
   "execution_count": null,
   "id": "4e312e8a-79ab-47d3-a82d-0225dbd64f7c",
   "metadata": {},
   "outputs": [],
   "source": [
    "# No exchange data past 12/22 and missng dates pre 2003\n",
    "# The universe pre 2005 is small so drop this also\n",
    "from datetime import datetime\n",
    "\n",
    "datetime_str = '01/01/05 00:00:00'\n",
    "date_floor = datetime.strptime(datetime_str, '%m/%d/%y %H:%M:%S')\n",
    "datetime_str = '01/01/23 00:00:00'\n",
    "date_cap = datetime.strptime(datetime_str, '%m/%d/%y %H:%M:%S')\n",
    "\n",
    "data = data[data.index>date_floor]\n",
    "data = data[data.index<date_cap]"
   ]
  },
  {
   "cell_type": "code",
   "execution_count": null,
   "id": "90443b3f-9aac-4ec0-a2ff-46b11380924a",
   "metadata": {},
   "outputs": [],
   "source": [
    "# Drop ros from data that have nan\n",
    "data = data.dropna()"
   ]
  },
  {
   "cell_type": "code",
   "execution_count": null,
   "id": "ce1d9813-2f39-4d69-81ad-552aa2f2365e",
   "metadata": {},
   "outputs": [],
   "source": [
    "# Drop data to csv file\n",
    "data.to_csv('EM_full.csv',index=True)"
   ]
  }
 ],
 "metadata": {
  "kernelspec": {
   "display_name": "Python 3 (ipykernel)",
   "language": "python",
   "name": "python3"
  },
  "language_info": {
   "codemirror_mode": {
    "name": "ipython",
    "version": 3
   },
   "file_extension": ".py",
   "mimetype": "text/x-python",
   "name": "python",
   "nbconvert_exporter": "python",
   "pygments_lexer": "ipython3",
   "version": "3.8.8"
  }
 },
 "nbformat": 4,
 "nbformat_minor": 5
}
